{
 "cells": [
  {
   "cell_type": "markdown",
   "metadata": {},
   "source": [
    "I'd like to be able to save and reopen a complex ipywidget. The widget being saved can be an arbitary combination of other widgets (such as a tab containing accordions, text areas, selection, etc). The saved data should be able to reconstruct the widget entirely (including the selected inputs/entered values at the time of saving)."
   ]
  },
  {
   "cell_type": "code",
   "execution_count": 70,
   "metadata": {},
   "outputs": [],
   "source": [
    "import ipywidgets as widgets\n",
    "from IPython.display import display"
   ]
  },
  {
   "cell_type": "code",
   "execution_count": 74,
   "metadata": {},
   "outputs": [
    {
     "data": {
      "text/plain": [
       "'\\nRead in an external file.\\n'"
      ]
     },
     "execution_count": 74,
     "metadata": {},
     "output_type": "execute_result"
    }
   ],
   "source": [
    "'''\n",
    "Read in an external file.\n",
    "'''"
   ]
  },
  {
   "cell_type": "code",
   "execution_count": 75,
   "metadata": {
    "hide_input": false,
    "run_control": {
     "marked": false
    },
    "scrolled": false
   },
   "outputs": [
    {
     "data": {
      "application/vnd.jupyter.widget-view+json": {
       "model_id": "d42f0d8d5dcd4d9d8c5f536a4d6238fa",
       "version_major": 2,
       "version_minor": 0
      },
      "text/plain": [
       "Tab(children=(VBox(children=(Select(description=u'A Selection', options=('A1', 'A2', 'A3'), value='A1'), Selec…"
      ]
     },
     "metadata": {},
     "output_type": "display_data"
    }
   ],
   "source": [
    "ASelection = widgets.Select(description='A Selection', options=['A1', 'A2', 'A3'], value='A1')\n",
    "BSelection = widgets.Select(description='B Selection',options=['B1','B2','B3','B4','B5'], value='B1')\n",
    "Selection_VBox = widgets.VBox([ASelection, BSelection])\n",
    "\n",
    "tab = widgets.Tab()\n",
    "\n",
    "#IF NO UPLOADED DATA:\n",
    "tab.children = [Selection_VBox]\n",
    "display(tab)\n",
    "\n",
    "#IF THERE IS UPLOADED DATA:\n",
    "#READ DATA FROM UPLOADED FILE AND RECONSTRUCT THE tab WIDGET, RETAINING ALL PREVIOUS WIDGET STATE INFO.\n",
    "    \n"
   ]
  },
  {
   "cell_type": "code",
   "execution_count": 76,
   "metadata": {},
   "outputs": [
    {
     "data": {
      "text/plain": [
       "\"\\nTake all the info about the widgets in the previous cell (tab) and save it in some form into a file that can be saved.\\nThis file may/may not be human readable.\\nI.e., feel free to use pickle-styled solutions. Pickling itself doesn't seem to work on widgets however.\\n\""
      ]
     },
     "execution_count": 76,
     "metadata": {},
     "output_type": "execute_result"
    }
   ],
   "source": [
    "#SAVE DATA TO EXTERNAL FILE\n",
    "'''\n",
    "Take all the info about the widgets in the previous cell (tab) and save it in some form into a file that can be saved.\n",
    "This file may/may not be human readable.\n",
    "I.e., feel free to use pickle-styled solutions. Pickling itself doesn't seem to work on widgets however.\n",
    "'''"
   ]
  }
 ],
 "metadata": {
  "anaconda-cloud": {},
  "celltoolbar": "Initialization Cell",
  "kernelspec": {
   "display_name": "Python 2",
   "language": "python",
   "name": "python2"
  },
  "language_info": {
   "codemirror_mode": {
    "name": "ipython",
    "version": 2
   },
   "file_extension": ".py",
   "mimetype": "text/x-python",
   "name": "python",
   "nbconvert_exporter": "python",
   "pygments_lexer": "ipython2",
   "version": "2.7.11"
  },
  "latex_envs": {
   "LaTeX_envs_menu_present": true,
   "autocomplete": true,
   "bibliofile": "biblio.bib",
   "cite_by": "apalike",
   "current_citInitial": 1,
   "eqLabelWithNumbers": true,
   "eqNumInitial": 1,
   "hotkeys": {
    "equation": "Ctrl-E",
    "itemize": "Ctrl-I"
   },
   "labels_anchors": false,
   "latex_user_defs": false,
   "report_style_numbering": false,
   "user_envs_cfg": false
  },
  "varInspector": {
   "cols": {
    "lenName": 16,
    "lenType": 16,
    "lenVar": 40
   },
   "kernels_config": {
    "python": {
     "delete_cmd_postfix": "",
     "delete_cmd_prefix": "del ",
     "library": "var_list.py",
     "varRefreshCmd": "print(var_dic_list())"
    },
    "r": {
     "delete_cmd_postfix": ") ",
     "delete_cmd_prefix": "rm(",
     "library": "var_list.r",
     "varRefreshCmd": "cat(var_dic_list()) "
    }
   },
   "position": {
    "height": "558px",
    "left": "582px",
    "right": "20px",
    "top": "102px",
    "width": "800px"
   },
   "types_to_exclude": [
    "module",
    "function",
    "builtin_function_or_method",
    "instance",
    "_Feature"
   ],
   "window_display": false
  }
 },
 "nbformat": 4,
 "nbformat_minor": 1
}

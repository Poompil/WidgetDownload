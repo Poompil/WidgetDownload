import ipywidgets as widgets
from IPython.display import display
import fileupload

ASelection = widgets.Select(description='A Selection', options=['A1', 'A2', 'A3'], value='A1')
BSelection = widgets.Select(description='B Selection',options=['B1','B2','B3','B4','B5'], value='B1')
Selection_VBox = widgets.VBox([ASelection, BSelection])

tab = widgets.Tab()
tab.children = [Selection_VBox]

display(tab)
